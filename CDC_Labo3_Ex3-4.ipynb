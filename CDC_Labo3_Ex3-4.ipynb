{
 "cells": [
  {
   "cell_type": "markdown",
   "metadata": {},
   "source": [
    "### Problème 3\n",
    "Construire le polynome générateur g(x) d’un code BCH de longueur 63, qui corrige toutes les erreurs de poids inférieur ou égal à 3 en utilisant la représentation de F2^6 défini à partir du polynome primitif m(x) = x^6 + x + 1.\n",
    "Ecrire le polynome generateur g(x) sous forme\n",
    "\n",
    "$$ g(x) = \\prod_{i=0}^{r} (Pi(\\alpha) * x^i) $$\n",
    "\n",
    "ou r est le degré du polynome g(x), Pi(x) est un polynome dans F2[x] de degre inferieur ou egal a 5 et où $$ \\alpha \\equiv \\overline{x}  $$ modulo le polynome m(x). "
   ]
  },
  {
   "cell_type": "code",
   "execution_count": 1,
   "metadata": {},
   "outputs": [],
   "source": [
    "R.<x> = PolynomialRing(GF(2))\n",
    "F = GF(2^6, 'a', modulus=x^6 + x + 1)\n",
    "a = F.gen()\n",
    "\n",
    "gBCH = product(x-a^j for j in (1..6))"
   ]
  },
  {
   "cell_type": "code",
   "execution_count": 2,
   "metadata": {},
   "outputs": [
    {
     "data": {
      "text/plain": [
       "x^6 + (a^5 + a^4 + a^3 + a^2 + 1)*x^5 + (a^3 + a^2 + 1)*x^4 + (a^5 + a^4 + a^2 + a + 1)*x^3 + (a^5 + a^3 + a^2 + a)*x^2 + (a^5 + a^4)*x + a^5 + a^4 + a^3 + a + 1"
      ]
     },
     "execution_count": 2,
     "metadata": {},
     "output_type": "execute_result"
    }
   ],
   "source": [
    "gBCH"
   ]
  },
  {
   "cell_type": "markdown",
   "metadata": {},
   "source": [
    "### Exercice 4\n",
    "\n",
    "Pour construire un code de Reed-Solomon C sur le corps Fq il est commode, en pratique de prendre q de la forme q = 2^m. Les éléments de F2^m sont des suites de m bits. Si on ramène tout\n",
    "à F2 on peut voir alors C comme un code binaire C', de longueur n' = (2^m −1)m, de dimension k! = km et de distance minimale d' >= d = 2^m − k (car cette opération augmente les poids des\n",
    "mots du code C).\n",
    "Le code C' est bien adapté aux corrections faites par paquets : si t vérifie 2t+1 <= d(C) = q − k, le code corrige t éléments de F2^m, donc t m erreurs binaires si celles-ci sont consécutives.\n",
    "\n",
    "Le satellite d’exploration de Jupiter Galileo utilise le code de Reed-Solomon (255,223) sur le corps F28(corps des octets) o`u ce corps est construit modulo le polynôme primitif m(x) = x8 + x7 + x2 + x + 1 de F2[x]\n",
    "\n",
    "a) Calculer la distance minimale et la capacité de correction de ce code.\n",
    "\n",
    "b) Le polynôme générateur choisi est \n",
    "$$ g(x) = \\prod_{i=0}^{32} (x - (\\alpha^{11})^j) $$\n",
    "et où $$ \\alpha \\equiv \\overline{x} $$  modulo le polynôme m(x).\n",
    "\n",
    "Ecrire un programme fournissant g(x) sous la forme\n",
    "\n",
    "$$ g(x) = \\sum_{i=0}^{32} (Pi(\\alpha) * x^i) $$\n",
    "\n",
    "avec Pi(x) % F2[x] et de degré inférieur ou égal à 7.\n",
    "\n",
    "Ce code de (F256)^{255} est alors 16-correcteurs via ce que nous avons dit est un code linéaire sur (F2)^{2040}, de dimension 1784 qui peut corriger au moins 128 erreurs portant sur les bits dès qu’elles sont consécutives (erreurs par paquets)."
   ]
  },
  {
   "cell_type": "markdown",
   "metadata": {},
   "source": [
    "#### point a)\n",
    "\n",
    "Comme il s'agit d'un code Reed-Solomon, alors :\n",
    "\n",
    "$$ n + 1 = k + d $$\n",
    "$$ => n + 1 - k = d $$\n",
    "\n",
    "Ici, n = 255, k = 223, ce qui implique que d est égal à :\n",
    "\n",
    "$$ 255  + 1 - 223 = d = 33 $$\n",
    "\n",
    "La capacité de correction du code est donné par cette formule :\n",
    "\n",
    "$$ \\lfloor \\frac{d - 1}{2} \\rfloor $$\n",
    "\n",
    "Comme d = 33, alors la capacité de correction est égale à :\n",
    "\n",
    "$$ \\lfloor \\frac{33 - 1}{2} \\rfloor = 16 $$\n",
    "\n",
    "#### point b)"
   ]
  },
  {
   "cell_type": "code",
   "execution_count": 3,
   "metadata": {},
   "outputs": [],
   "source": [
    "R.<x> = PolynomialRing(GF(2))\n",
    "F = GF(2^8, 'a', modulus=x^8 + x^7 + x^2 + x + 1)\n",
    "a = F.gen()"
   ]
  },
  {
   "cell_type": "code",
   "execution_count": 4,
   "metadata": {},
   "outputs": [],
   "source": [
    "gReedSolomon = product(x-a^(11*j) for j in (12..43))"
   ]
  },
  {
   "cell_type": "code",
   "execution_count": 5,
   "metadata": {},
   "outputs": [
    {
     "data": {
      "text/plain": [
       "x^32 + (a^7 + a^4 + a^2 + a)*x^31 + (a^7 + a^6 + a^5 + a + 1)*x^30 + (a^7 + a^4 + a^3)*x^29 + (a^6 + a^3 + 1)*x^28 + (a^7 + a^5 + a^4 + a)*x^27 + (a^7 + a)*x^26 + (a^5 + a^3)*x^25 + (a^5 + a^4 + a)*x^24 + (a^7 + a^6 + a^5 + a^4 + 1)*x^23 + (a^6 + a^5 + a^2)*x^22 + (a^7 + a^6 + a)*x^21 + (a^6 + a^5 + a^4)*x^20 + (a^7 + a^6 + a^5 + a^4)*x^19 + (a^6 + a^5 + a^4 + a)*x^18 + (a^6 + a^3 + a^2)*x^17 + (a^6 + a^5 + a^4 + a^2 + a)*x^16 + (a^7 + a^5 + a^3 + a^2 + a + 1)*x^15 + a^5*x^14 + (a^6 + a^5 + a^2 + 1)*x^13 + (a^7 + a^4 + a^3 + a^2 + a + 1)*x^12 + (a^6 + a^5 + a^3 + a + 1)*x^11 + (a^7 + a^3 + a + 1)*x^10 + (a^6 + a^5 + a^3 + 1)*x^9 + (a^5 + a^3 + 1)*x^8 + (a^6 + a^4 + a^2 + a + 1)*x^7 + (a^7 + a^6 + a^4 + a + 1)*x^6 + (a^6 + a^5 + a^3 + a)*x^5 + (a^6 + a^5 + a^4 + a^3 + a^2 + a + 1)*x^4 + (a^7 + a^6 + a^2)*x^3 + (a^7 + a^4)*x^2 + (a^7 + a^6 + a^4 + a^2 + a)*x + a^6 + a^5 + a^4 + a^3 + a^2"
      ]
     },
     "execution_count": 5,
     "metadata": {},
     "output_type": "execute_result"
    }
   ],
   "source": [
    "gReedSolomon"
   ]
  },
  {
   "cell_type": "code",
   "execution_count": null,
   "metadata": {},
   "outputs": [],
   "source": []
  }
 ],
 "metadata": {
  "kernelspec": {
   "display_name": "SageMath 9.0",
   "language": "sage",
   "name": "sagemath"
  },
  "language_info": {
   "codemirror_mode": {
    "name": "ipython",
    "version": 3
   },
   "file_extension": ".py",
   "mimetype": "text/x-python",
   "name": "python",
   "nbconvert_exporter": "python",
   "pygments_lexer": "ipython3",
   "version": "3.8.10"
  }
 },
 "nbformat": 4,
 "nbformat_minor": 4
}
