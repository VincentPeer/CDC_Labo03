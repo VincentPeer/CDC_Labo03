{
 "cells": [
  {
   "attachments": {},
   "cell_type": "markdown",
   "metadata": {},
   "source": [
    "# CDC Laboratoire 3\n",
    "\n",
    "Olivier Tissot-Daguette & Vincent Peer\n",
    "\n",
    "16 juin 2023\n",
    "\n",
    "### Exercice 1\n",
    "\n",
    "Soient a(x) et b(x) deux polynomes dans F q [x]. L’algorithme d’Euclide  ́etendu permet non seulement d’obtenir le pgdc(a(x), b(x)), mais aussi de fournir les polynomes ui (x) et vi (x) tels que r i (x) = a(x) u i (x) + b(x) vi (x) (voir la section 7.10 du polycopi ́e ). En utilisant les memes notations de la section7.10 (pages 46-47) du polycopi ́e et  ́etant donn ́e deux polynomes a(x) = x 8 et b(x) = x 6 + x 4 + x 2 + x + 1 dans F 2 [x],  ́ecrire un programme qui permet de :\n"
   ]
  },
  {
   "cell_type": "code",
   "execution_count": 3,
   "metadata": {},
   "outputs": [],
   "source": [
    "import numpy as np\n",
    "\n",
    "# Algorithme d'euclide étendu pour les polynômes\n",
    "def algorithme_euclide_etendu_polynomes(a, b):\n",
    "    \n",
    "    # Initialisation\n",
    "    u = [np.array([1.]), np.array([0.])]\n",
    "    v = [np.array([0.]), np.array([1.])]\n",
    "    r = [a, b]\n",
    "    q = [np.array([0.]), np.array([0.])]\n",
    "\n",
    "    # Calcul\n",
    "    i = 1\n",
    "    while r[i].any() != 0:\n",
    "        quotient = np.polydiv(r[i-1], r[i])[0] % 2\n",
    "        reste = np.polydiv(r[i-1], r[i])[1] % 2\n",
    "        u_nouveau = np.polysub(u[i-1], np.polymul(quotient, u[i]) % 2) % 2\n",
    "        v_nouveau = np.polysub(v[i-1], np.polymul(quotient, v[i]) % 2) % 2\n",
    "        \n",
    "        q.append(quotient)\n",
    "        r.append(reste)\n",
    "        u.append(u_nouveau)\n",
    "        v.append(v_nouveau)\n",
    "        i += 1\n",
    "\n",
    "    return u, v, r, q\n",
    "\n",
    "# Affichage d'un polynôme\n",
    "def affichage_polynome(p):\n",
    "    p_str = \"\"\n",
    "    for i in range(len(p) - 2):\n",
    "        if p[i] != 0:\n",
    "            p_str += \"x^\" + str(len(p)-i-1) + \" + \"\n",
    "    if len(p) > 1 and p[-2] != 0:\n",
    "        p_str += \"x + \"\n",
    "    if p[-1] != 0:\n",
    "        p_str += \"1   \"\n",
    "    if p_str == \"\":\n",
    "        p_str = \"0   \"\n",
    "    return p_str[:-3]"
   ]
  },
  {
   "cell_type": "code",
   "execution_count": 4,
   "metadata": {},
   "outputs": [],
   "source": [
    "# Initialisation des polynomes et calcul de l'algorithme\n",
    "a = np.array([1,0,0,0,0,0,0,0,0])\n",
    "b = np.array([1,0,1,0,1,1,1])\n",
    "\n",
    "u, v, r, q = algorithme_euclide_etendu_polynomes(a, b)"
   ]
  },
  {
   "attachments": {},
   "cell_type": "markdown",
   "metadata": {},
   "source": [
    "#### 1) Calculer les polynômes $u_{i}(x)$, $v_{i}(x)$, $r_{i}(x)$ et $q_{i}(x)$ pour −1 ≤ i ≤ n"
   ]
  },
  {
   "cell_type": "code",
   "execution_count": 5,
   "metadata": {},
   "outputs": [
    {
     "name": "stdout",
     "output_type": "stream",
     "text": [
      "i                u(x)                           v(x)                           r(x)                   q(x)      \n",
      "-1                1                              0                             x^8                      0       \n",
      "0                 0                              1                   x^6 + x^4 + x^2 + x + 1            0       \n",
      "1                 1                           x^2 + 1                      x^3 + x + 1               x^2 + 1    \n",
      "2              x^3 + 1                    x^5 + x^3 + x^2                      x^2                   x^3 + 1    \n",
      "3            x^4 + x + 1             x^6 + x^4 + x^3 + x^2 + 1                x + 1                     x       \n",
      "4       x^5 + x^4 + x^3 + x^2         x^7 + x^6 + x^3 + x + 1                   1                     x + 1     \n",
      "5      x^6 + x^4 + x^2 + x + 1                  x^8                             0                     x + 1     \n"
     ]
    }
   ],
   "source": [
    "print(\"{:<3} {:^30} {:^30} {:^30} {:^15}\".format('i', 'u(x)', 'v(x)', 'r(x)', 'q(x)'))\n",
    "for i in range(len(r)):\n",
    "    print(\"{:<3} {:^30} {:^30} {:^30} {:^15}\".format(str(i-1), affichage_polynome(u[i]), affichage_polynome(v[i]), affichage_polynome(r[i]), affichage_polynome(q[i])))"
   ]
  },
  {
   "attachments": {},
   "cell_type": "markdown",
   "metadata": {},
   "source": [
    "#### 2) Donner le pgdc(a(x), b(x))"
   ]
  },
  {
   "cell_type": "code",
   "execution_count": 6,
   "metadata": {},
   "outputs": [
    {
     "name": "stdout",
     "output_type": "stream",
     "text": [
      "PGDC(x^8, x^6 + x^4 + x^2 + x + 1) = 1\n"
     ]
    }
   ],
   "source": [
    "print(\"PGDC(\" + affichage_polynome(a) + \", \" + affichage_polynome(b) + \") = \" + affichage_polynome(r[-2]))"
   ]
  },
  {
   "attachments": {},
   "cell_type": "markdown",
   "metadata": {},
   "source": [
    "#### 3) Vérifier les formules $r_{i}(x)$ = a(x) $u_{i}(x)$ + b(x) $v_{i}(x)$ pour −1 ≤ i ≤ n  "
   ]
  },
  {
   "cell_type": "code",
   "execution_count": 17,
   "metadata": {},
   "outputs": [
    {
     "name": "stdout",
     "output_type": "stream",
     "text": [
      " i                                      r i (x) = a(x) u i (x) + b(x) v i (x)                                     \n",
      "-1  : (          x^8          ) = (x^8) * (           1           ) + (x^6 + x^4 + x^2 + x + 1) * (            0            )\n",
      " 0  : (x^6 + x^4 + x^2 + x + 1) = (x^8) * (           0           ) + (x^6 + x^4 + x^2 + x + 1) * (            1            )\n",
      " 1  : (      x^3 + x + 1      ) = (x^8) * (           1           ) + (x^6 + x^4 + x^2 + x + 1) * (         x^2 + 1         )\n",
      " 2  : (          x^2          ) = (x^8) * (        x^3 + 1        ) + (x^6 + x^4 + x^2 + x + 1) * (     x^5 + x^3 + x^2     )\n",
      " 3  : (         x + 1         ) = (x^8) * (      x^4 + x + 1      ) + (x^6 + x^4 + x^2 + x + 1) * (x^6 + x^4 + x^3 + x^2 + 1)\n",
      " 4  : (           1           ) = (x^8) * ( x^5 + x^4 + x^3 + x^2 ) + (x^6 + x^4 + x^2 + x + 1) * ( x^7 + x^6 + x^3 + x + 1 )\n",
      " 5  : (           0           ) = (x^8) * (x^6 + x^4 + x^2 + x + 1) + (x^6 + x^4 + x^2 + x + 1) * (           x^8           )\n"
     ]
    }
   ],
   "source": [
    "print(\"{:<3} {:^110}\".format(' i', 'r i (x) = a(x) u i (x) + b(x) v i (x)'))\n",
    "for i in range(len(r)):\n",
    "    print(\"{:^3} : ({:^23}) = ({:^3}) * ({:^23}) + ({:^23}) * ({:^25})\".format(str(i-1), affichage_polynome(r[i]), affichage_polynome(a), affichage_polynome(u[i]), affichage_polynome(b), affichage_polynome(v[i])))"
   ]
  },
  {
   "cell_type": "markdown",
   "metadata": {},
   "source": [
    "### Problème 3\n",
    "Construire le polynome générateur g(x) d’un code BCH de longueur 63, qui corrige toutes les erreurs de poids inférieur ou égal à 3 en utilisant la représentation de F2^6 défini à partir du polynome primitif m(x) = x^6 + x + 1.\n",
    "Ecrire le polynome generateur g(x) sous forme\n",
    "\n",
    "$$ g(x) = \\prod_{i=0}^{r} (Pi(\\alpha) * x^i) $$\n",
    "\n",
    "ou r est le degré du polynome g(x), Pi(x) est un polynome dans F2[x] de degre inferieur ou egal a 5 et où $$ \\alpha \\equiv \\overline{x}  $$ modulo le polynome m(x). "
   ]
  },
  {
   "cell_type": "code",
   "execution_count": 1,
   "metadata": {},
   "outputs": [],
   "source": [
    "R.<x> = PolynomialRing(GF(2))\n",
    "F = GF(2^6, 'a', modulus=x^6 + x + 1)\n",
    "a = F.gen()\n",
    "\n",
    "gBCH = product(x-a^j for j in (1..6))"
   ]
  },
  {
   "cell_type": "code",
   "execution_count": 2,
   "metadata": {},
   "outputs": [
    {
     "data": {
      "text/plain": [
       "x^6 + (a^5 + a^4 + a^3 + a^2 + 1)*x^5 + (a^3 + a^2 + 1)*x^4 + (a^5 + a^4 + a^2 + a + 1)*x^3 + (a^5 + a^3 + a^2 + a)*x^2 + (a^5 + a^4)*x + a^5 + a^4 + a^3 + a + 1"
      ]
     },
     "execution_count": 2,
     "metadata": {},
     "output_type": "execute_result"
    }
   ],
   "source": [
    "gBCH"
   ]
  },
  {
   "cell_type": "markdown",
   "metadata": {},
   "source": []
  },
  {
   "cell_type": "markdown",
   "metadata": {},
   "source": [
    "#### point a)\n",
    "\n",
    "Comme il s'agit d'un code Reed-Solomon, alors :\n",
    "\n",
    "$$ n + 1 = k + d $$\n",
    "$$ => n + 1 - k = d $$\n",
    "\n",
    "Ici, n = 255, k = 223, ce qui implique que d est égal à :\n",
    "\n",
    "$$ 255  + 1 - 223 = d = 33 $$\n",
    "\n",
    "La capacité de correction du code est donné par cette formule :\n",
    "\n",
    "$$ \\lfloor \\frac{d - 1}{2} \\rfloor $$\n",
    "\n",
    "Comme d = 33, alors la capacité de correction est égale à :\n",
    "\n",
    "$$ \\lfloor \\frac{33 - 1}{2} \\rfloor = 16 $$\n",
    "\n",
    "#### point b)"
   ]
  },
  {
   "cell_type": "code",
   "execution_count": 3,
   "metadata": {},
   "outputs": [],
   "source": [
    "R.<x> = PolynomialRing(GF(2))\n",
    "F = GF(2^8, 'a', modulus=x^8 + x^7 + x^2 + x + 1)\n",
    "a = F.gen()"
   ]
  },
  {
   "cell_type": "code",
   "execution_count": 4,
   "metadata": {},
   "outputs": [],
   "source": [
    "gReedSolomon = product(x-a^(11*j) for j in (12..43))"
   ]
  },
  {
   "cell_type": "code",
   "execution_count": 5,
   "metadata": {},
   "outputs": [
    {
     "data": {
      "text/plain": [
       "x^32 + (a^7 + a^4 + a^2 + a)*x^31 + (a^7 + a^6 + a^5 + a + 1)*x^30 + (a^7 + a^4 + a^3)*x^29 + (a^6 + a^3 + 1)*x^28 + (a^7 + a^5 + a^4 + a)*x^27 + (a^7 + a)*x^26 + (a^5 + a^3)*x^25 + (a^5 + a^4 + a)*x^24 + (a^7 + a^6 + a^5 + a^4 + 1)*x^23 + (a^6 + a^5 + a^2)*x^22 + (a^7 + a^6 + a)*x^21 + (a^6 + a^5 + a^4)*x^20 + (a^7 + a^6 + a^5 + a^4)*x^19 + (a^6 + a^5 + a^4 + a)*x^18 + (a^6 + a^3 + a^2)*x^17 + (a^6 + a^5 + a^4 + a^2 + a)*x^16 + (a^7 + a^5 + a^3 + a^2 + a + 1)*x^15 + a^5*x^14 + (a^6 + a^5 + a^2 + 1)*x^13 + (a^7 + a^4 + a^3 + a^2 + a + 1)*x^12 + (a^6 + a^5 + a^3 + a + 1)*x^11 + (a^7 + a^3 + a + 1)*x^10 + (a^6 + a^5 + a^3 + 1)*x^9 + (a^5 + a^3 + 1)*x^8 + (a^6 + a^4 + a^2 + a + 1)*x^7 + (a^7 + a^6 + a^4 + a + 1)*x^6 + (a^6 + a^5 + a^3 + a)*x^5 + (a^6 + a^5 + a^4 + a^3 + a^2 + a + 1)*x^4 + (a^7 + a^6 + a^2)*x^3 + (a^7 + a^4)*x^2 + (a^7 + a^6 + a^4 + a^2 + a)*x + a^6 + a^5 + a^4 + a^3 + a^2"
      ]
     },
     "execution_count": 5,
     "metadata": {},
     "output_type": "execute_result"
    }
   ],
   "source": [
    "gReedSolomon"
   ]
  },
  {
   "cell_type": "code",
   "execution_count": null,
   "metadata": {},
   "outputs": [],
   "source": []
  }
 ],
 "metadata": {
  "kernelspec": {
   "display_name": "CoursTAL",
   "language": "python",
   "name": "python3"
  },
  "language_info": {
   "codemirror_mode": {
    "name": "ipython",
    "version": 3
   },
   "file_extension": ".py",
   "mimetype": "text/x-python",
   "name": "python",
   "nbconvert_exporter": "python",
   "pygments_lexer": "ipython3",
   "version": "3.7.16"
  }
 },
 "nbformat": 4,
 "nbformat_minor": 4
}
