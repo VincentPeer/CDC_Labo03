{
 "cells": [
  {
   "attachments": {},
   "cell_type": "markdown",
   "metadata": {},
   "source": [
    "# CDC Laboratoire 3\n",
    "\n",
    "Olivier Tissot-Daguette & Vincent Peer\n",
    "\n",
    "16 juin 2023\n",
    "\n",
    "### Exercice 1"
   ]
  },
  {
   "cell_type": "code",
   "execution_count": 1,
   "metadata": {},
   "outputs": [],
   "source": [
    "# Imports\n",
    "import numpy as np"
   ]
  },
  {
   "cell_type": "code",
   "execution_count": 2,
   "metadata": {},
   "outputs": [],
   "source": [
    "'''\n",
    "Soient a(x) et b(x) deux polynomes dans F q [x]. L’algorithme d’Euclide  ́etendu permet non\n",
    "seulement d’obtenir le pgdc(a(x), b(x)), mais aussi de fournir les polynomes ui (x) et vi (x) tels\n",
    "que r i (x) = a(x) u i (x) + b(x) vi (x) (voir la section 7.10 du polycopi ́e ). En utilisant les memes\n",
    "notations de la section7.10 (pages 46-47) du polycopi ́e et  ́etant donn ́e deux polynomes a(x) = x 8\n",
    "et b(x) = x 6 + x 4 + x 2 + x + 1 dans F 2 [x],  ́ecrire un programme qui permet de\n",
    "1) calculer les polynomes u i (x), vi (x), , r i (x) et q i (x) pour −1 ≤ i ≤ n,\n",
    "2) donner le pgdc(a(x), b(x)),\n",
    "3) v erifier les formules r i (x) = a(x) u i (x) + b(x) v i (x) pour −1 ≤ i ≤ n\n",
    "'''\n",
    "\n",
    "def print_polynom(p):\n",
    "    p_str = \"\"\n",
    "    for i in range(len(p) - 2):\n",
    "        if p[i] != 0:\n",
    "            p_str += \"x^\" + str(len(p)-i-1) + \" + \"\n",
    "    if len(p) > 1 and p[-2] != 0:\n",
    "        p_str += \"x + \"\n",
    "    if p[-1] != 0:\n",
    "        p_str += \"1   \"\n",
    "    if p_str == \"\":\n",
    "        p_str = \"0   \"\n",
    "    return p_str[:-3]\n",
    "\n",
    "\n",
    "def polynomial_extended_euclidean_algorithm(a, b):\n",
    "    \n",
    "    # Initialisation\n",
    "    u = [np.array([1.]),np.array([0.])]\n",
    "    v = [np.array([0.]),np.array([1.])]\n",
    "    r = [a, b]\n",
    "    q = [np.array([0.]),np.array([0.])]\n",
    "\n",
    "    # Calcul\n",
    "    i = 1\n",
    "    while r[i].any() != 0:\n",
    "        q.append(np.polydiv(r[i-1], r[i])[0] % 2)\n",
    "        r.append(np.polydiv(r[i-1], r[i])[1] % 2)\n",
    "        u.append(np.polysub(u[i-1], np.polymul(q[i+1], u[i]) % 2) % 2)\n",
    "        v.append(np.polysub(v[i-1], np.polymul(q[i+1], v[i]) % 2) % 2)\n",
    "        i += 1\n",
    "\n",
    "    # Affichage\n",
    "    print(\"1)\")\n",
    "    print (\"{:<3} {:<30} {:<30} {:<30} {:<15}\".format('i','u(x)','v(x)','r(x)', 'q(x)'))\n",
    "    for i in range(len(r)):\n",
    "        print (\"{:<3} {:<30} {:<30} {:<30} {:<15}\".format(str(i-1), print_polynom(u[i]), print_polynom(v[i]), print_polynom(r[i]), print_polynom(q[i])))\n",
    "    \n",
    "    print(\"\\n2)\")\n",
    "    print(\"pgcd(\" + print_polynom(a) + \", \" + print_polynom(b) + \") = \" + print_polynom(r[-2]))\n",
    "\n",
    "    print(\"\\n3)\")\n",
    "    for i in range(len(r)):\n",
    "        print(\"i = \" + str(i-1) + \" : (\" + print_polynom(r[i]) + \") = (\" + print_polynom(a) + \") * (\" + print_polynom(u[i]) + \") + (\" + print_polynom(b) + \") * (\" + print_polynom(v[i]) + \")\")\n"
   ]
  },
  {
   "cell_type": "code",
   "execution_count": 3,
   "metadata": {},
   "outputs": [
    {
     "name": "stdout",
     "output_type": "stream",
     "text": [
      "1)\n",
      "i   u(x)                           v(x)                           r(x)                           q(x)           \n",
      "-1  1                              0                              x^8                            0              \n",
      "0   0                              1                              x^6 + x^4 + x^2 + x + 1        0              \n",
      "1   1                              x^2 + 1                        x^3 + x + 1                    x^2 + 1        \n",
      "2   x^3 + 1                        x^5 + x^3 + x^2                x^2                            x^3 + 1        \n",
      "3   x^4 + x + 1                    x^6 + x^4 + x^3 + x^2 + 1      x + 1                          x              \n",
      "4   x^5 + x^4 + x^3 + x^2          x^7 + x^6 + x^3 + x + 1        1                              x + 1          \n",
      "5   x^6 + x^4 + x^2 + x + 1        x^8                            0                              x + 1          \n",
      "\n",
      "2)\n",
      "pgcd(x^8, x^6 + x^4 + x^2 + x + 1) = 1\n",
      "\n",
      "3)\n",
      "i = -1 : (x^8) = (x^8) * (1) + (x^6 + x^4 + x^2 + x + 1) * (0)\n",
      "i = 0 : (x^6 + x^4 + x^2 + x + 1) = (x^8) * (0) + (x^6 + x^4 + x^2 + x + 1) * (1)\n",
      "i = 1 : (x^3 + x + 1) = (x^8) * (1) + (x^6 + x^4 + x^2 + x + 1) * (x^2 + 1)\n",
      "i = 2 : (x^2) = (x^8) * (x^3 + 1) + (x^6 + x^4 + x^2 + x + 1) * (x^5 + x^3 + x^2)\n",
      "i = 3 : (x + 1) = (x^8) * (x^4 + x + 1) + (x^6 + x^4 + x^2 + x + 1) * (x^6 + x^4 + x^3 + x^2 + 1)\n",
      "i = 4 : (1) = (x^8) * (x^5 + x^4 + x^3 + x^2) + (x^6 + x^4 + x^2 + x + 1) * (x^7 + x^6 + x^3 + x + 1)\n",
      "i = 5 : (0) = (x^8) * (x^6 + x^4 + x^2 + x + 1) + (x^6 + x^4 + x^2 + x + 1) * (x^8)\n"
     ]
    }
   ],
   "source": [
    "polynomial_extended_euclidean_algorithm(np.array([1,0,0,0,0,0,0,0,0]), np.array([1,0,1,0,1,1,1]))"
   ]
  }
 ],
 "metadata": {
  "kernelspec": {
   "display_name": "CoursTAL",
   "language": "python",
   "name": "python3"
  },
  "language_info": {
   "codemirror_mode": {
    "name": "ipython",
    "version": 3
   },
   "file_extension": ".py",
   "mimetype": "text/x-python",
   "name": "python",
   "nbconvert_exporter": "python",
   "pygments_lexer": "ipython3",
   "version": "3.7.16"
  },
  "orig_nbformat": 4
 },
 "nbformat": 4,
 "nbformat_minor": 2
}
